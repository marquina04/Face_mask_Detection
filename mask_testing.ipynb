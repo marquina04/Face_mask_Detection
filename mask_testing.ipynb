{
 "cells": [
  {
   "cell_type": "code",
   "execution_count": 1,
   "metadata": {},
   "outputs": [],
   "source": [
    "from tensorflow.keras.applications.mobilenet_v2 import preprocess_input\n",
    "from tensorflow.keras.preprocessing.image import img_to_array\n",
    "from tensorflow.keras.models import load_model\n",
    "import numpy as np\n",
    "import cv2\n",
    "import os"
   ]
  },
  {
   "cell_type": "code",
   "execution_count": 2,
   "metadata": {},
   "outputs": [],
   "source": [
    "prototxtPath= os.sep.join([r'./deploy.prototxt'])\n",
    "weightsPath=os.sep.join([r'./res10_300x300_ssd_iter_140000.caffemodel'])"
   ]
  },
  {
   "cell_type": "code",
   "execution_count": 3,
   "metadata": {},
   "outputs": [
    {
     "data": {
      "text/plain": [
       "'./deploy.prototxt'"
      ]
     },
     "execution_count": 3,
     "metadata": {},
     "output_type": "execute_result"
    }
   ],
   "source": [
    "prototxtPath"
   ]
  },
  {
   "cell_type": "code",
   "execution_count": 4,
   "metadata": {},
   "outputs": [],
   "source": [
    "net=cv2.dnn.readNet(prototxtPath, weightsPath)"
   ]
  },
  {
   "cell_type": "code",
   "execution_count": 5,
   "metadata": {},
   "outputs": [],
   "source": [
    "model=load_model('mobilenet_v2.h5')"
   ]
  },
  {
   "cell_type": "code",
   "execution_count": 6,
   "metadata": {},
   "outputs": [],
   "source": [
    "image=cv2.imread(r'./sample/istockphoto-1272058180-170667a.jpg')"
   ]
  },
  {
   "cell_type": "code",
   "execution_count": 7,
   "metadata": {},
   "outputs": [
    {
     "data": {
      "text/plain": [
       "array([[[215, 215, 215],\n",
       "        [215, 215, 215],\n",
       "        [215, 215, 215],\n",
       "        ...,\n",
       "        [215, 215, 215],\n",
       "        [215, 215, 215],\n",
       "        [215, 215, 215]],\n",
       "\n",
       "       [[215, 215, 215],\n",
       "        [215, 215, 215],\n",
       "        [215, 215, 215],\n",
       "        ...,\n",
       "        [215, 215, 215],\n",
       "        [215, 215, 215],\n",
       "        [215, 215, 215]],\n",
       "\n",
       "       [[215, 215, 215],\n",
       "        [215, 215, 215],\n",
       "        [215, 215, 215],\n",
       "        ...,\n",
       "        [215, 215, 215],\n",
       "        [215, 215, 215],\n",
       "        [215, 215, 215]],\n",
       "\n",
       "       ...,\n",
       "\n",
       "       [[215, 215, 215],\n",
       "        [215, 215, 215],\n",
       "        [215, 215, 215],\n",
       "        ...,\n",
       "        [215, 215, 215],\n",
       "        [215, 215, 215],\n",
       "        [215, 215, 215]],\n",
       "\n",
       "       [[215, 215, 215],\n",
       "        [215, 215, 215],\n",
       "        [215, 215, 215],\n",
       "        ...,\n",
       "        [215, 215, 215],\n",
       "        [215, 215, 215],\n",
       "        [215, 215, 215]],\n",
       "\n",
       "       [[215, 215, 215],\n",
       "        [215, 215, 215],\n",
       "        [215, 215, 215],\n",
       "        ...,\n",
       "        [215, 215, 215],\n",
       "        [215, 215, 215],\n",
       "        [215, 215, 215]]], dtype=uint8)"
      ]
     },
     "execution_count": 7,
     "metadata": {},
     "output_type": "execute_result"
    }
   ],
   "source": [
    "image"
   ]
  },
  {
   "cell_type": "code",
   "execution_count": 8,
   "metadata": {},
   "outputs": [
    {
     "data": {
      "text/plain": [
       "(339, 508)"
      ]
     },
     "execution_count": 8,
     "metadata": {},
     "output_type": "execute_result"
    }
   ],
   "source": [
    "(h,w)=image.shape[:2]\n",
    "(h,w)"
   ]
  },
  {
   "cell_type": "code",
   "execution_count": 9,
   "metadata": {},
   "outputs": [],
   "source": [
    "blob=cv2.dnn.blobFromImage(image,1.0,(300,300),(104.0,177.0,123.0))"
   ]
  },
  {
   "cell_type": "code",
   "execution_count": 10,
   "metadata": {},
   "outputs": [
    {
     "data": {
      "text/plain": [
       "(1, 3, 300, 300)"
      ]
     },
     "execution_count": 10,
     "metadata": {},
     "output_type": "execute_result"
    }
   ],
   "source": [
    "blob.shape"
   ]
  },
  {
   "cell_type": "code",
   "execution_count": 11,
   "metadata": {},
   "outputs": [],
   "source": [
    "net.setInput(blob)\n",
    "detection=net.forward()"
   ]
  },
  {
   "cell_type": "code",
   "execution_count": 12,
   "metadata": {},
   "outputs": [
    {
     "data": {
      "text/plain": [
       "array([[[[0.        , 1.        , 0.9998481 , ..., 0.20071928,\n",
       "          0.6027807 , 0.6900956 ],\n",
       "         [0.        , 1.        , 0.1243332 , ..., 4.0075474 ,\n",
       "          4.840796  , 4.9883432 ],\n",
       "         [0.        , 1.        , 0.11949161, ..., 4.0088034 ,\n",
       "          0.8281528 , 4.9902306 ],\n",
       "         ...,\n",
       "         [0.        , 0.        , 0.        , ..., 0.        ,\n",
       "          0.        , 0.        ],\n",
       "         [0.        , 0.        , 0.        , ..., 0.        ,\n",
       "          0.        , 0.        ],\n",
       "         [0.        , 0.        , 0.        , ..., 0.        ,\n",
       "          0.        , 0.        ]]]], dtype=float32)"
      ]
     },
     "execution_count": 12,
     "metadata": {},
     "output_type": "execute_result"
    }
   ],
   "source": [
    "detection"
   ]
  },
  {
   "cell_type": "code",
   "execution_count": 13,
   "metadata": {},
   "outputs": [
    {
     "name": "stdout",
     "output_type": "stream",
     "text": [
      "1/1 [==============================] - 1s 687ms/step\n"
     ]
    }
   ],
   "source": [
    "for i in range(0,detection.shape[2]):\n",
    "    confidence=detection[0,0,i,2]\n",
    "    if confidence>0.5:\n",
    "        box=detection[0,0,i,3:7]*np.array([w,h,w,h])\n",
    "        (startX, startY, endX, endY)=box.astype('int')\n",
    "        (startX,startY)=(max(0,startX),max(0,startY))\n",
    "        (endX,endY)=(min(w-1,endX), min(h-1,endY))\n",
    "        face=image[startY:endY, startX:endX]\n",
    "        face=cv2.cvtColor(face,cv2.COLOR_BGR2RGB)\n",
    "        face=cv2.resize(face,(224,224))\n",
    "        face=img_to_array(face)\n",
    "        face=preprocess_input(face)\n",
    "        face=np.expand_dims(face, axis=0)\n",
    "        (mask,withoutMask)=model.predict(face)[0]\n",
    "        label='Mask' if mask>withoutMask else 'No Mask'\n",
    "        color=(0,255,0) if label=='Mask' else (0,0,255)\n",
    "        label=\"{}: {:.2f}%\".format(label,max(mask,withoutMask)*100)\n",
    "        cv2.putText(image, label,(startX,startY-10),cv2.FONT_HERSHEY_DUPLEX,0.45,color,2)\n",
    "        cv2.rectangle(image,(startX,startY),(endX,endY),color,2)\n",
    "\n",
    "cv2.imshow('Output',image)\n",
    "cv2.waitKey(0)\n",
    "cv2.destroyAllWindows()"
   ]
  },
  {
   "cell_type": "code",
   "execution_count": null,
   "metadata": {},
   "outputs": [],
   "source": []
  }
 ],
 "metadata": {
  "kernelspec": {
   "display_name": "Python 3.10.4 64-bit",
   "language": "python",
   "name": "python3"
  },
  "language_info": {
   "codemirror_mode": {
    "name": "ipython",
    "version": 3
   },
   "file_extension": ".py",
   "mimetype": "text/x-python",
   "name": "python",
   "nbconvert_exporter": "python",
   "pygments_lexer": "ipython3",
   "version": "3.10.4"
  },
  "orig_nbformat": 4,
  "vscode": {
   "interpreter": {
    "hash": "7a00c8bfb4f5a5586f3c944c35fc6c63dd1841654f1291cc687786b27bd37999"
   }
  }
 },
 "nbformat": 4,
 "nbformat_minor": 2
}
